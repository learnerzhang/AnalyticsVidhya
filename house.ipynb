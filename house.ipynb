{
 "cells": [
  {
   "cell_type": "code",
   "execution_count": 2,
   "metadata": {},
   "outputs": [],
   "source": [
    "import numpy as np\n",
    "import pandas as pd\n",
    "import matplotlib.pyplot as plt\n",
    "import warnings\n",
    "warnings.filterwarnings('ignore')"
   ]
  },
  {
   "cell_type": "code",
   "execution_count": 3,
   "metadata": {},
   "outputs": [
    {
     "data": {
      "image/png": "[encoded data removed]",
      "text/plain": [
       "<Figure size 432x288 with 1 Axes>"
      ]
     },
     "metadata": {
      "needs_background": "light"
     },
     "output_type": "display_data"
    }
   ],
   "source": [
    "data = pd.read_csv('second_hand_ house.csv')\n",
    "plt.scatter(data['经度'],data['纬度'],  # 按照经纬度显示\n",
    "            s = data['房屋单价']/500,  # 按照单价显示大小\n",
    "            c = data['参考总价'],  # 按照总价显示颜色\n",
    "            alpha = 0.4, cmap = 'Reds')  \n",
    "plt.grid()"
   ]
  },
  {
   "cell_type": "code",
   "execution_count": 6,
   "metadata": {},
   "outputs": [
    {
     "name": "stdout",
     "output_type": "stream",
     "text": [
      "房屋编码      int64\n",
      "小区       object\n",
      "朝向       object\n",
      "房屋单价      int64\n",
      "参考首付    float64\n",
      "参考总价    float64\n",
      "经度      float64\n",
      "纬度      float64\n",
      "dtype: object\n",
      "-------\n",
      "数据长度为75条\n",
      "参考首付极差为 52.500000 \n",
      "参考总价极差为 175.000000\n"
     ]
    }
   ],
   "source": [
    "print(data.dtypes)\n",
    "print('-------\\n数据长度为%i条' % len(data))\n",
    "# data.head()\n",
    "# 极差：max-min\n",
    "# 只针对定量字段\n",
    "\n",
    "def d_range(df,*cols):\n",
    "    krange = []\n",
    "    for col in cols:\n",
    "        crange = df[col].max() - df[col].min()\n",
    "        krange.append(crange)\n",
    "    return(krange)\n",
    "\n",
    "# 创建函数求极差\n",
    "key1 = '参考首付'\n",
    "key2 = '参考总价'\n",
    "dr = d_range(data,key1,key2)\n",
    "print('%s极差为 %f \\n%s极差为 %f' % (key1, dr[0], key2, dr[1]))"
   ]
  },
  {
   "cell_type": "code",
   "execution_count": 7,
   "metadata": {},
   "outputs": [
    {
     "data": {
      "text/plain": [
       "<AxesSubplot:>"
      ]
     },
     "execution_count": 7,
     "metadata": {},
     "output_type": "execute_result"
    },
    {
     "data": {
      "image/png": "[encoded data removed]",
      "text/plain": [
       "<Figure size 432x288 with 1 Axes>"
      ]
     },
     "metadata": {
      "needs_background": "light"
     },
     "output_type": "display_data"
    }
   ],
   "source": [
    "data[key2].hist(bins=10)"
   ]
  },
  {
   "cell_type": "code",
   "execution_count": 9,
   "metadata": {},
   "outputs": [
    {
     "name": "stdout",
     "output_type": "stream",
     "text": [
      "0      [42.5, 60.0)\n",
      "1      [25.0, 42.5)\n",
      "2      [42.5, 60.0)\n",
      "3      [25.0, 42.5)\n",
      "4    [165.0, 182.5)\n",
      "Name: 参考总价, dtype: category\n",
      "Categories (10, interval[float64]): [[25.0, 42.5) < [42.5, 60.0) < [60.0, 77.5) < [77.5, 95.0) ... [130.0, 147.5) < [147.5, 165.0) < [165.0, 182.5) < [182.5, 200.175)] \n",
      "------\n",
      "[25.0, 42.5)        14\n",
      "[42.5, 60.0)        17\n",
      "[60.0, 77.5)         1\n",
      "[77.5, 95.0)         2\n",
      "[95.0, 112.5)        4\n",
      "[112.5, 130.0)       2\n",
      "[130.0, 147.5)       3\n",
      "[147.5, 165.0)       4\n",
      "[165.0, 182.5)       8\n",
      "[182.5, 200.175)    20\n",
      "Name: 参考总价, dtype: int64\n"
     ]
    }
   ],
   "source": [
    "# 频率分布情况 - 定量字段\n",
    "# ② 求出分组区间\n",
    "gcut = pd.cut(data[key2],10,right=False)\n",
    "gcut_count = gcut.value_counts(sort=False)  # 不排序\n",
    "data['%s分组区间' % key2] = gcut.values\n",
    "print(gcut.head(),'\\n------')\n",
    "print(gcut_count)\n",
    "# data.head()\n",
    "# pd.cut(x, bins, right)：按照组数对x分组，且返回一个和x同样长度的分组dataframe，right → 是否右边包含，默认True\n",
    "# 通过groupby查看不同组的数据频率分布\n",
    "# 给源数据data添加“分组区间”列"
   ]
  },
  {
   "cell_type": "code",
   "execution_count": 10,
   "metadata": {},
   "outputs": [
    {
     "data": {
      "text/html": [
       "<style  type=\"text/css\" >\n",
       "    #T_72166a78_d221_11ea_85b0_acde48001122row0_col1 {\n",
       "            width:  10em;\n",
       "             height:  80%;\n",
       "            background:  linear-gradient(90deg,green 68.4%, transparent 68.4%);\n",
       "        }    #T_72166a78_d221_11ea_85b0_acde48001122row0_col2 {\n",
       "            width:  10em;\n",
       "             height:  80%;\n",
       "        }    #T_72166a78_d221_11ea_85b0_acde48001122row1_col1 {\n",
       "            width:  10em;\n",
       "             height:  80%;\n",
       "            background:  linear-gradient(90deg,green 84.2%, transparent 84.2%);\n",
       "        }    #T_72166a78_d221_11ea_85b0_acde48001122row1_col2 {\n",
       "            width:  10em;\n",
       "             height:  80%;\n",
       "            background:  linear-gradient(90deg,green 27.9%, transparent 27.9%);\n",
       "        }    #T_72166a78_d221_11ea_85b0_acde48001122row2_col1 {\n",
       "            width:  10em;\n",
       "             height:  80%;\n",
       "        }    #T_72166a78_d221_11ea_85b0_acde48001122row2_col2 {\n",
       "            width:  10em;\n",
       "             height:  80%;\n",
       "            background:  linear-gradient(90deg,green 29.5%, transparent 29.5%);\n",
       "        }    #T_72166a78_d221_11ea_85b0_acde48001122row3_col1 {\n",
       "            width:  10em;\n",
       "             height:  80%;\n",
       "            background:  linear-gradient(90deg,green 5.3%, transparent 5.3%);\n",
       "        }    #T_72166a78_d221_11ea_85b0_acde48001122row3_col2 {\n",
       "            width:  10em;\n",
       "             height:  80%;\n",
       "            background:  linear-gradient(90deg,green 32.8%, transparent 32.8%);\n",
       "        }    #T_72166a78_d221_11ea_85b0_acde48001122row4_col1 {\n",
       "            width:  10em;\n",
       "             height:  80%;\n",
       "            background:  linear-gradient(90deg,green 15.8%, transparent 15.8%);\n",
       "        }    #T_72166a78_d221_11ea_85b0_acde48001122row4_col2 {\n",
       "            width:  10em;\n",
       "             height:  80%;\n",
       "            background:  linear-gradient(90deg,green 39.3%, transparent 39.3%);\n",
       "        }    #T_72166a78_d221_11ea_85b0_acde48001122row5_col1 {\n",
       "            width:  10em;\n",
       "             height:  80%;\n",
       "            background:  linear-gradient(90deg,green 5.3%, transparent 5.3%);\n",
       "        }    #T_72166a78_d221_11ea_85b0_acde48001122row5_col2 {\n",
       "            width:  10em;\n",
       "             height:  80%;\n",
       "            background:  linear-gradient(90deg,green 42.6%, transparent 42.6%);\n",
       "        }    #T_72166a78_d221_11ea_85b0_acde48001122row6_col1 {\n",
       "            width:  10em;\n",
       "             height:  80%;\n",
       "            background:  linear-gradient(90deg,green 10.5%, transparent 10.5%);\n",
       "        }    #T_72166a78_d221_11ea_85b0_acde48001122row6_col2 {\n",
       "            width:  10em;\n",
       "             height:  80%;\n",
       "            background:  linear-gradient(90deg,green 47.5%, transparent 47.5%);\n",
       "        }    #T_72166a78_d221_11ea_85b0_acde48001122row7_col1 {\n",
       "            width:  10em;\n",
       "             height:  80%;\n",
       "            background:  linear-gradient(90deg,green 15.8%, transparent 15.8%);\n",
       "        }    #T_72166a78_d221_11ea_85b0_acde48001122row7_col2 {\n",
       "            width:  10em;\n",
       "             height:  80%;\n",
       "            background:  linear-gradient(90deg,green 54.1%, transparent 54.1%);\n",
       "        }    #T_72166a78_d221_11ea_85b0_acde48001122row8_col1 {\n",
       "            width:  10em;\n",
       "             height:  80%;\n",
       "            background:  linear-gradient(90deg,green 36.8%, transparent 36.8%);\n",
       "        }    #T_72166a78_d221_11ea_85b0_acde48001122row8_col2 {\n",
       "            width:  10em;\n",
       "             height:  80%;\n",
       "            background:  linear-gradient(90deg,green 67.2%, transparent 67.2%);\n",
       "        }    #T_72166a78_d221_11ea_85b0_acde48001122row9_col1 {\n",
       "            width:  10em;\n",
       "             height:  80%;\n",
       "            background:  linear-gradient(90deg,green 100.0%, transparent 100.0%);\n",
       "        }    #T_72166a78_d221_11ea_85b0_acde48001122row9_col2 {\n",
       "            width:  10em;\n",
       "             height:  80%;\n",
       "            background:  linear-gradient(90deg,green 100.0%, transparent 100.0%);\n",
       "        }</style><table id=\"T_72166a78_d221_11ea_85b0_acde48001122\" ><thead>    <tr>        <th class=\"blank level0\" ></th>        <th class=\"col_heading level0 col0\" >频数</th>        <th class=\"col_heading level0 col1\" >频率</th>        <th class=\"col_heading level0 col2\" >累计频率</th>        <th class=\"col_heading level0 col3\" >频率%</th>        <th class=\"col_heading level0 col4\" >累计频率%</th>    </tr></thead><tbody>\n",
       "                <tr>\n",
       "                        <th id=\"T_72166a78_d221_11ea_85b0_acde48001122level0_row0\" class=\"row_heading level0 row0\" >[25.0, 42.5)</th>\n",
       "                        <td id=\"T_72166a78_d221_11ea_85b0_acde48001122row0_col0\" class=\"data row0 col0\" >14</td>\n",
       "                        <td id=\"T_72166a78_d221_11ea_85b0_acde48001122row0_col1\" class=\"data row0 col1\" >0.186667</td>\n",
       "                        <td id=\"T_72166a78_d221_11ea_85b0_acde48001122row0_col2\" class=\"data row0 col2\" >0.186667</td>\n",
       "                        <td id=\"T_72166a78_d221_11ea_85b0_acde48001122row0_col3\" class=\"data row0 col3\" >18.67%</td>\n",
       "                        <td id=\"T_72166a78_d221_11ea_85b0_acde48001122row0_col4\" class=\"data row0 col4\" >18.67%</td>\n",
       "            </tr>\n",
       "            <tr>\n",
       "                        <th id=\"T_72166a78_d221_11ea_85b0_acde48001122level0_row1\" class=\"row_heading level0 row1\" >[42.5, 60.0)</th>\n",
       "                        <td id=\"T_72166a78_d221_11ea_85b0_acde48001122row1_col0\" class=\"data row1 col0\" >17</td>\n",
       "                        <td id=\"T_72166a78_d221_11ea_85b0_acde48001122row1_col1\" class=\"data row1 col1\" >0.226667</td>\n",
       "                        <td id=\"T_72166a78_d221_11ea_85b0_acde48001122row1_col2\" class=\"data row1 col2\" >0.413333</td>\n",
       "                        <td id=\"T_72166a78_d221_11ea_85b0_acde48001122row1_col3\" class=\"data row1 col3\" >22.67%</td>\n",
       "                        <td id=\"T_72166a78_d221_11ea_85b0_acde48001122row1_col4\" class=\"data row1 col4\" >41.33%</td>\n",
       "            </tr>\n",
       "            <tr>\n",
       "                        <th id=\"T_72166a78_d221_11ea_85b0_acde48001122level0_row2\" class=\"row_heading level0 row2\" >[60.0, 77.5)</th>\n",
       "                        <td id=\"T_72166a78_d221_11ea_85b0_acde48001122row2_col0\" class=\"data row2 col0\" >1</td>\n",
       "                        <td id=\"T_72166a78_d221_11ea_85b0_acde48001122row2_col1\" class=\"data row2 col1\" >0.013333</td>\n",
       "                        <td id=\"T_72166a78_d221_11ea_85b0_acde48001122row2_col2\" class=\"data row2 col2\" >0.426667</td>\n",
       "                        <td id=\"T_72166a78_d221_11ea_85b0_acde48001122row2_col3\" class=\"data row2 col3\" >1.33%</td>\n",
       "                        <td id=\"T_72166a78_d221_11ea_85b0_acde48001122row2_col4\" class=\"data row2 col4\" >42.67%</td>\n",
       "            </tr>\n",
       "            <tr>\n",
       "                        <th id=\"T_72166a78_d221_11ea_85b0_acde48001122level0_row3\" class=\"row_heading level0 row3\" >[77.5, 95.0)</th>\n",
       "                        <td id=\"T_72166a78_d221_11ea_85b0_acde48001122row3_col0\" class=\"data row3 col0\" >2</td>\n",
       "                        <td id=\"T_72166a78_d221_11ea_85b0_acde48001122row3_col1\" class=\"data row3 col1\" >0.026667</td>\n",
       "                        <td id=\"T_72166a78_d221_11ea_85b0_acde48001122row3_col2\" class=\"data row3 col2\" >0.453333</td>\n",
       "                        <td id=\"T_72166a78_d221_11ea_85b0_acde48001122row3_col3\" class=\"data row3 col3\" >2.67%</td>\n",
       "                        <td id=\"T_72166a78_d221_11ea_85b0_acde48001122row3_col4\" class=\"data row3 col4\" >45.33%</td>\n",
       "            </tr>\n",
       "            <tr>\n",
       "                        <th id=\"T_72166a78_d221_11ea_85b0_acde48001122level0_row4\" class=\"row_heading level0 row4\" >[95.0, 112.5)</th>\n",
       "                        <td id=\"T_72166a78_d221_11ea_85b0_acde48001122row4_col0\" class=\"data row4 col0\" >4</td>\n",
       "                        <td id=\"T_72166a78_d221_11ea_85b0_acde48001122row4_col1\" class=\"data row4 col1\" >0.053333</td>\n",
       "                        <td id=\"T_72166a78_d221_11ea_85b0_acde48001122row4_col2\" class=\"data row4 col2\" >0.506667</td>\n",
       "                        <td id=\"T_72166a78_d221_11ea_85b0_acde48001122row4_col3\" class=\"data row4 col3\" >5.33%</td>\n",
       "                        <td id=\"T_72166a78_d221_11ea_85b0_acde48001122row4_col4\" class=\"data row4 col4\" >50.67%</td>\n",
       "            </tr>\n",
       "            <tr>\n",
       "                        <th id=\"T_72166a78_d221_11ea_85b0_acde48001122level0_row5\" class=\"row_heading level0 row5\" >[112.5, 130.0)</th>\n",
       "                        <td id=\"T_72166a78_d221_11ea_85b0_acde48001122row5_col0\" class=\"data row5 col0\" >2</td>\n",
       "                        <td id=\"T_72166a78_d221_11ea_85b0_acde48001122row5_col1\" class=\"data row5 col1\" >0.026667</td>\n",
       "                        <td id=\"T_72166a78_d221_11ea_85b0_acde48001122row5_col2\" class=\"data row5 col2\" >0.533333</td>\n",
       "                        <td id=\"T_72166a78_d221_11ea_85b0_acde48001122row5_col3\" class=\"data row5 col3\" >2.67%</td>\n",
       "                        <td id=\"T_72166a78_d221_11ea_85b0_acde48001122row5_col4\" class=\"data row5 col4\" >53.33%</td>\n",
       "            </tr>\n",
       "            <tr>\n",
       "                        <th id=\"T_72166a78_d221_11ea_85b0_acde48001122level0_row6\" class=\"row_heading level0 row6\" >[130.0, 147.5)</th>\n",
       "                        <td id=\"T_72166a78_d221_11ea_85b0_acde48001122row6_col0\" class=\"data row6 col0\" >3</td>\n",
       "                        <td id=\"T_72166a78_d221_11ea_85b0_acde48001122row6_col1\" class=\"data row6 col1\" >0.040000</td>\n",
       "                        <td id=\"T_72166a78_d221_11ea_85b0_acde48001122row6_col2\" class=\"data row6 col2\" >0.573333</td>\n",
       "                        <td id=\"T_72166a78_d221_11ea_85b0_acde48001122row6_col3\" class=\"data row6 col3\" >4.00%</td>\n",
       "                        <td id=\"T_72166a78_d221_11ea_85b0_acde48001122row6_col4\" class=\"data row6 col4\" >57.33%</td>\n",
       "            </tr>\n",
       "            <tr>\n",
       "                        <th id=\"T_72166a78_d221_11ea_85b0_acde48001122level0_row7\" class=\"row_heading level0 row7\" >[147.5, 165.0)</th>\n",
       "                        <td id=\"T_72166a78_d221_11ea_85b0_acde48001122row7_col0\" class=\"data row7 col0\" >4</td>\n",
       "                        <td id=\"T_72166a78_d221_11ea_85b0_acde48001122row7_col1\" class=\"data row7 col1\" >0.053333</td>\n",
       "                        <td id=\"T_72166a78_d221_11ea_85b0_acde48001122row7_col2\" class=\"data row7 col2\" >0.626667</td>\n",
       "                        <td id=\"T_72166a78_d221_11ea_85b0_acde48001122row7_col3\" class=\"data row7 col3\" >5.33%</td>\n",
       "                        <td id=\"T_72166a78_d221_11ea_85b0_acde48001122row7_col4\" class=\"data row7 col4\" >62.67%</td>\n",
       "            </tr>\n",
       "            <tr>\n",
       "                        <th id=\"T_72166a78_d221_11ea_85b0_acde48001122level0_row8\" class=\"row_heading level0 row8\" >[165.0, 182.5)</th>\n",
       "                        <td id=\"T_72166a78_d221_11ea_85b0_acde48001122row8_col0\" class=\"data row8 col0\" >8</td>\n",
       "                        <td id=\"T_72166a78_d221_11ea_85b0_acde48001122row8_col1\" class=\"data row8 col1\" >0.106667</td>\n",
       "                        <td id=\"T_72166a78_d221_11ea_85b0_acde48001122row8_col2\" class=\"data row8 col2\" >0.733333</td>\n",
       "                        <td id=\"T_72166a78_d221_11ea_85b0_acde48001122row8_col3\" class=\"data row8 col3\" >10.67%</td>\n",
       "                        <td id=\"T_72166a78_d221_11ea_85b0_acde48001122row8_col4\" class=\"data row8 col4\" >73.33%</td>\n",
       "            </tr>\n",
       "            <tr>\n",
       "                        <th id=\"T_72166a78_d221_11ea_85b0_acde48001122level0_row9\" class=\"row_heading level0 row9\" >[182.5, 200.175)</th>\n",
       "                        <td id=\"T_72166a78_d221_11ea_85b0_acde48001122row9_col0\" class=\"data row9 col0\" >20</td>\n",
       "                        <td id=\"T_72166a78_d221_11ea_85b0_acde48001122row9_col1\" class=\"data row9 col1\" >0.266667</td>\n",
       "                        <td id=\"T_72166a78_d221_11ea_85b0_acde48001122row9_col2\" class=\"data row9 col2\" >1.000000</td>\n",
       "                        <td id=\"T_72166a78_d221_11ea_85b0_acde48001122row9_col3\" class=\"data row9 col3\" >26.67%</td>\n",
       "                        <td id=\"T_72166a78_d221_11ea_85b0_acde48001122row9_col4\" class=\"data row9 col4\" >100.00%</td>\n",
       "            </tr>\n",
       "    </tbody></table>"
      ],
      "text/plain": [
       "<pandas.io.formats.style.Styler at 0x7fcbf4085d90>"
      ]
     },
     "execution_count": 10,
     "metadata": {},
     "output_type": "execute_result"
    }
   ],
   "source": [
    "# 频率分布情况 - 定量字段\n",
    "# ③  求出目标字段下频率分布的其他统计量 → 频数，频率，累计频率\n",
    "\n",
    "r_zj = pd.DataFrame(gcut_count)\n",
    "r_zj.rename(columns ={gcut_count.name:'频数'}, inplace = True)  # 修改频数字段名\n",
    "r_zj['频率'] = r_zj / r_zj['频数'].sum()  # 计算频率\n",
    "r_zj['累计频率'] = r_zj['频率'].cumsum()  # 计算累计频率\n",
    "r_zj['频率%'] = r_zj['频率'].apply(lambda x: \"%.2f%%\" % (x*100))  # 以百分比显示频率\n",
    "r_zj['累计频率%'] = r_zj['累计频率'].apply(lambda x: \"%.2f%%\" % (x*100))  # 以百分比显示累计频率\n",
    "r_zj.style.bar(subset=['频率','累计频率'], color='green',width=100)"
   ]
  },
  {
   "cell_type": "code",
   "execution_count": null,
   "metadata": {},
   "outputs": [],
   "source": []
  }
 ],
 "metadata": {
  "kernelspec": {
   "display_name": "Python 3",
   "language": "python",
   "name": "python3"
  },
  "language_info": {
   "codemirror_mode": {
    "name": "ipython",
    "version": 3
   },
   "file_extension": ".py",
   "mimetype": "text/x-python",
   "name": "python",
   "nbconvert_exporter": "python",
   "pygments_lexer": "ipython3",
   "version": "3.7.4"
  }
 },
 "nbformat": 4,
 "nbformat_minor": 2
}
